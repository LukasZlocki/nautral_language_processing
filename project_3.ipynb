{
 "cells": [
  {
   "cell_type": "code",
   "execution_count": 1,
   "id": "63d02bb6-f2a5-438c-b13d-8adf30caccd5",
   "metadata": {},
   "outputs": [],
   "source": [
    "# Zadanie 3 - projekt\n",
    "# Lukasz Zlocki\n",
    "# 76103"
   ]
  },
  {
   "cell_type": "code",
   "execution_count": 2,
   "id": "120d78cf-6ac6-4561-a031-d3856f519c29",
   "metadata": {},
   "outputs": [],
   "source": [
    "# Libraries\n",
    "\n",
    "#treebank tokenizer:\n",
    "from nltk.tokenize import TreebankWordTokenizer\n",
    "\n",
    "# countvectorizer\n",
    "from sklearn.feature_extraction.text import CountVectorizer\n",
    "\n",
    "import pandas as pd\n"
   ]
  },
  {
   "cell_type": "code",
   "execution_count": 3,
   "id": "93cf6b9e-5527-407a-883d-3ce5a5bcd86e",
   "metadata": {},
   "outputs": [],
   "source": [
    "# Tokenizers\n",
    "def tokenize_treebank(text):\n",
    "    tokenizer_treebank = TreebankWordTokenizer().tokenize(text)\n",
    "    return tokenizer_treebank"
   ]
  },
  {
   "cell_type": "code",
   "execution_count": 4,
   "id": "ee4620cf-f974-454d-8619-0265a4566c50",
   "metadata": {},
   "outputs": [
    {
     "data": {
      "text/plain": [
       "array(['better', 'done', 'is', 'said', 'than', 'well'], dtype=object)"
      ]
     },
     "execution_count": 4,
     "metadata": {},
     "output_type": "execute_result"
    }
   ],
   "source": [
    "# Test BoW\n",
    "txt1 = 'Well done is better than well said'\n",
    "\n",
    "cv = CountVectorizer()\n",
    "bow = cv.fit_transform([txt1])\n",
    "cv.get_feature_names_out()"
   ]
  },
  {
   "cell_type": "code",
   "execution_count": 5,
   "id": "b86f52a6-4786-44ae-923c-b0e7cb0b066b",
   "metadata": {},
   "outputs": [
    {
     "data": {
      "text/plain": [
       "array([[1, 1, 1, 1, 1, 2]], dtype=int64)"
      ]
     },
     "execution_count": 5,
     "metadata": {},
     "output_type": "execute_result"
    }
   ],
   "source": [
    "bow.toarray()"
   ]
  },
  {
   "cell_type": "code",
   "execution_count": 6,
   "id": "88c904aa-720f-4291-81ab-5c671a1b9b2a",
   "metadata": {},
   "outputs": [
    {
     "data": {
      "text/html": [
       "<div>\n",
       "<style scoped>\n",
       "    .dataframe tbody tr th:only-of-type {\n",
       "        vertical-align: middle;\n",
       "    }\n",
       "\n",
       "    .dataframe tbody tr th {\n",
       "        vertical-align: top;\n",
       "    }\n",
       "\n",
       "    .dataframe thead th {\n",
       "        text-align: right;\n",
       "    }\n",
       "</style>\n",
       "<table border=\"1\" class=\"dataframe\">\n",
       "  <thead>\n",
       "    <tr style=\"text-align: right;\">\n",
       "      <th></th>\n",
       "      <th>better</th>\n",
       "      <th>done</th>\n",
       "      <th>is</th>\n",
       "      <th>said</th>\n",
       "      <th>than</th>\n",
       "      <th>well</th>\n",
       "    </tr>\n",
       "  </thead>\n",
       "  <tbody>\n",
       "    <tr>\n",
       "      <th>0</th>\n",
       "      <td>1</td>\n",
       "      <td>1</td>\n",
       "      <td>1</td>\n",
       "      <td>1</td>\n",
       "      <td>1</td>\n",
       "      <td>2</td>\n",
       "    </tr>\n",
       "  </tbody>\n",
       "</table>\n",
       "</div>"
      ],
      "text/plain": [
       "   better  done  is  said  than  well\n",
       "0       1     1   1     1     1     2"
      ]
     },
     "execution_count": 6,
     "metadata": {},
     "output_type": "execute_result"
    }
   ],
   "source": [
    "df = pd.DataFrame(bow.toarray(), columns = cv.get_feature_names_out())\n",
    "df"
   ]
  },
  {
   "cell_type": "code",
   "execution_count": 7,
   "id": "08cc95a4-736e-4a58-8751-d0b899c73837",
   "metadata": {},
   "outputs": [],
   "source": [
    "# PLAN DZIALANIA\n",
    "# vektor CountVectorized CUSTOM MADE\n",
    "# jak stworzyc:\n",
    "# stworzyc 3x krotki text w zmiennych txt1, txt2, ...\n",
    "# dobrowadzic zmienne do malych liter, wyeliminowac znaki inne niz litera, cyfra\n",
    "# stworzyc BOW dla tych trzech zmiennych : jest to opisane w wykladzie 3 postapic identycznie\n",
    "# teraz nalezy stworzyc wlasny countVectorized\n",
    "    # pobrac wszystkie wyrazy z BOW do tablicy\n",
    "    # ulozyc wyrazy w kolejnosci alfabetycznej\n",
    "    # dla kazdej zmiennej utworzyc nowa zmienna lustrzana ale wstawiamy tam wszystie wyrazy i liczym\n",
    "    # ile razy wystapily w danej zmiennej (zapewne jakis foreach)\n"
   ]
  },
  {
   "cell_type": "code",
   "execution_count": 8,
   "id": "75a4be0a-168a-4aaf-a5e0-2b8d2086865b",
   "metadata": {},
   "outputs": [],
   "source": [
    "# START : CountVectorized CUSTOM MADE"
   ]
  },
  {
   "cell_type": "code",
   "execution_count": 9,
   "id": "b5ae6602-5416-4c97-aa91-d05c2996e6d3",
   "metadata": {},
   "outputs": [
    {
     "name": "stdout",
     "output_type": "stream",
     "text": [
      "Well done is better than well said\n",
      "Ask not what the Earth can do for you; ask what you can do for the Earth.\n",
      "Government of the people, by the people, and for the people shall not perish from the earth\n"
     ]
    }
   ],
   "source": [
    "# Creation of base strings\n",
    "txt1 = 'Well done is better than well said'\n",
    "txt2 = 'Ask not what the Earth can do for you; ask what you can do for the Earth.'\n",
    "txt3 = 'Government of the people, by the people, and for the people shall not perish from the earth'\n",
    "\n",
    "print(txt1)\n",
    "print(txt2)\n",
    "print(txt3)"
   ]
  },
  {
   "cell_type": "code",
   "execution_count": 10,
   "id": "dd9269e1-775b-4b96-932f-8f275fd72ca7",
   "metadata": {},
   "outputs": [
    {
     "name": "stdout",
     "output_type": "stream",
     "text": [
      "well done is better than well said\n",
      "ask not what the earth can do for you; ask what you can do for the earth.\n",
      "government of the people, by the people, and for the people shall not perish from the earth\n"
     ]
    }
   ],
   "source": [
    "# prepare base string to lower signs\n",
    "txt1_lower = txt1.lower()\n",
    "txt2_lower = txt2.lower()\n",
    "txt3_lower = txt3.lower()\n",
    "\n",
    "print(txt1_lower)\n",
    "print(txt2_lower)\n",
    "print(txt3_lower)"
   ]
  },
  {
   "cell_type": "code",
   "execution_count": 11,
   "id": "b25baffe-3f48-4377-822e-47b00819ae1d",
   "metadata": {},
   "outputs": [
    {
     "name": "stdout",
     "output_type": "stream",
     "text": [
      "['well', 'done', 'is', 'better', 'than', 'well', 'said']\n",
      "['ask', 'not', 'what', 'the', 'earth', 'can', 'do', 'for', 'you', ';', 'ask', 'what', 'you', 'can', 'do', 'for', 'the', 'earth', '.']\n",
      "['government', 'of', 'the', 'people', ',', 'by', 'the', 'people', ',', 'and', 'for', 'the', 'people', 'shall', 'not', 'perish', 'from', 'the', 'earth']\n"
     ]
    }
   ],
   "source": [
    "# BOW creation\n",
    "# words tokenize\n",
    "\n",
    "# tokenize txt1, txt2, ...\n",
    "txt1_tokenized = tokenize_treebank(txt1_lower)\n",
    "txt2_tokenized = tokenize_treebank(txt2_lower)\n",
    "txt3_tokenized = tokenize_treebank(txt3_lower)\n",
    "\n",
    "print(txt1_tokenized)\n",
    "print(txt2_tokenized)\n",
    "print(txt3_tokenized)"
   ]
  },
  {
   "cell_type": "code",
   "execution_count": 12,
   "id": "ae88e9fc-ec95-4874-9024-d483ac7fa8d3",
   "metadata": {},
   "outputs": [
    {
     "data": {
      "text/plain": [
       "Counter({'the': 4,\n",
       "         'people': 3,\n",
       "         ',': 2,\n",
       "         'government': 1,\n",
       "         'of': 1,\n",
       "         'by': 1,\n",
       "         'and': 1,\n",
       "         'for': 1,\n",
       "         'shall': 1,\n",
       "         'not': 1,\n",
       "         'perish': 1,\n",
       "         'from': 1,\n",
       "         'earth': 1})"
      ]
     },
     "execution_count": 12,
     "metadata": {},
     "output_type": "execute_result"
    }
   ],
   "source": [
    "# BOW creation\n",
    "# words counting\n",
    "from collections import Counter\n",
    "\n",
    "bow1 = Counter(txt1_tokenized)\n",
    "bow2 = Counter(txt2_tokenized)\n",
    "bow3 = Counter(txt3_tokenized)\n",
    "\n",
    "bow1\n",
    "bow2\n",
    "bow3"
   ]
  },
  {
   "cell_type": "code",
   "execution_count": null,
   "id": "ce4fa9e6-6d5b-4a20-b634-f3a0f29b17e2",
   "metadata": {},
   "outputs": [],
   "source": []
  },
  {
   "cell_type": "code",
   "execution_count": 13,
   "id": "437aafb0-72a2-4bbe-bd18-88397912e91b",
   "metadata": {},
   "outputs": [],
   "source": [
    "# ZADANIE 2\n",
    "# Wyszukiwarka dokumentow ze zbioru 20newgroups"
   ]
  },
  {
   "cell_type": "code",
   "execution_count": 14,
   "id": "cc75e8bc-4f6e-437f-b4a3-7609e2c4187a",
   "metadata": {},
   "outputs": [],
   "source": [
    "from sklearn.datasets import fetch_20newsgroups \n",
    "from sklearn.feature_extraction.text import TfidfVectorizer \n",
    "from sklearn.metrics.pairwise import cosine_similarity \n",
    "import numpy as np"
   ]
  },
  {
   "cell_type": "code",
   "execution_count": 63,
   "id": "3e9f15aa-1a0a-4177-99ea-39bb3b768167",
   "metadata": {},
   "outputs": [],
   "source": [
    "# Wczytanie danych 20newsgroups\n",
    "newsgroups = fetch_20newsgroups(subset='all')\n",
    "documents = newsgroups.data\n",
    "\n",
    "documents\n",
    "\n",
    "# Stwórz wektor TF-IDF dla dokumentów\n",
    "vectorizer = TfidfVectorizer(stop_words='english')\n",
    "tfidf_matrix = vectorizer.fit_transform(documents)\n"
   ]
  },
  {
   "cell_type": "code",
   "execution_count": 64,
   "id": "53a7ad9d-e165-47f1-90ff-aad0bb710856",
   "metadata": {},
   "outputs": [],
   "source": [
    "def get_similar_docs_by_cosine(query_string, top_docs_quantity):\n",
    "    # Przekształcenie zapytania w wektor TF-IDF \n",
    "    query_tfidf = vectorizer.transform([query_string]) \n",
    "    # Obliczenie podobieństwa cosinusowego pomiędzy zapytaniem a dokumentami \n",
    "    cosine_similarities = cosine_similarity(query_tfidf, tfidf_matrix).flatten() \n",
    "    # Znajdź indeksy dokumentów o największym podobieństwie kosinusowym \n",
    "    top_indices = cosine_similarities.argsort()[-top_docs_quantity:][::-1] \n",
    "    # Zwróć posortowaną listę dokumentów \n",
    "    return [(documents[i], cosine_similarities[i]) for i in top_indices]"
   ]
  },
  {
   "cell_type": "code",
   "execution_count": 65,
   "id": "8a085f36-4035-4fe5-816c-f7c53175191e",
   "metadata": {},
   "outputs": [
    {
     "name": "stdout",
     "output_type": "stream",
     "text": [
      "Similarity: 0.4067\n",
      "From: spebcg@thor.cf.ac.uk (BCG)\n",
      "Subject: Re: Knowing God's Will\n",
      "Organization: uwcc\n",
      "Lines: 20\n",
      "\n",
      "Hi,\n",
      "\n",
      "I don't know much about Bible. Could you tell me the relations of\n",
      "Christians with non-Christians in \n",
      "---\n",
      "\n",
      "Similarity: 0.3988\n",
      "From: halsall@murray.fordham.edu (Paul Halsall)\n",
      "Subject: Bible Unsuitable for New Christians\n",
      "Reply-To: halsall@murray.fordham.edu\n",
      "Organization: J. Random Misconfigured Site\n",
      "Lines: 42\n",
      "\n",
      "\n",
      "\tA \"new Christi\n",
      "---\n",
      "\n",
      "Similarity: 0.3499\n",
      "From: 18669@bach.udel.edu (Steven R Hoskins)\n",
      "Subject: Some questions from a new Christian\n",
      "Organization: University of Delaware\n",
      "Lines: 40\n",
      "\n",
      "Hi,\n",
      "\n",
      "I am new to this newsgroup, and also fairly new to christ\n",
      "---\n",
      "\n",
      "Similarity: 0.3172\n",
      "Subject: Re: [rw] Is Robert Weiss the only orthodox Christian?\n",
      "From: <LIBRBA@BYUVM.BITNET>\n",
      "Organization: Brigham Young University\n",
      "Lines: 66\n",
      "\n",
      "In article <C5vGyD.H7s@acsu.buffalo.edu>, psyrobtw@ubvmsd.c\n",
      "---\n",
      "\n",
      "Similarity: 0.3169\n",
      "From: creps@lateran.ucs.indiana.edu (Stephen A. Creps)\n",
      "Subject: Re: Does it matter which church?\n",
      "Organization: Indiana University\n",
      "Lines: 22\n",
      "\n",
      "In article <May.2.09.51.04.1993.11807@geneva.rutgers.edu> g\n",
      "---\n",
      "\n"
     ]
    }
   ],
   "source": [
    "# Przykładowe zapytanie \n",
    "query = \"reading Bible\" \n",
    "top_documents = get_similar_docs_by_cosine(query, 5) \n",
    "# Wypisz wyniki \n",
    "for doc, score in top_documents: print(f\"Similarity: {score:.4f}\\n{doc[:200]}\\n---\\n\")"
   ]
  },
  {
   "cell_type": "code",
   "execution_count": 18,
   "id": "60da5b7c-65ea-4514-81b1-ac0c536b41e3",
   "metadata": {},
   "outputs": [
    {
     "name": "stdout",
     "output_type": "stream",
     "text": [
      "Similarity: 0.3241\n",
      "From: carl_f_hoffman@cup.portal.com\n",
      "Subject: 1993 Infiniti G20\n",
      "Organization: The Portal System (TM)\n",
      "Lines: 26\n",
      "\n",
      "\n",
      "I am thinking about getting an Infiniti G20.\n",
      "In consumer reports it is ranked high in ma\n",
      "---\n",
      "\n",
      "Similarity: 0.2480\n",
      "From: gt4722a@prism.gatech.EDU (James B. Atkins)\n",
      "Subject: Honda Mailing list?\n",
      "Organization: Georgia Institute of Technology\n",
      "Lines: 2\n",
      "\n",
      "\n",
      "\tIs there a Honda mailing list, and if so how do I subscribe to i\n",
      "---\n",
      "\n",
      "Similarity: 0.2246\n",
      "From: srihari@cirrus.com (Srihari Shoroff)\n",
      "Subject: Re: Instead of a Saturn SC2, What???\n",
      "Organization: Cirrus Logic Inc.\n",
      "Distribution: na\n",
      "Lines: 24\n",
      "\n",
      "In <Ifn=sPO00iV18_A8NZ@andrew.cmu.edu> jr4q+@andrew\n",
      "---\n",
      "\n",
      "Similarity: 0.2143\n",
      "From: bep1@cbnewsg.cb.att.com (bentz.e.puryear)\n",
      "Subject: Re: Sport Utility Vehical comparisons? Any Opinions?\n",
      "Organization: AT&T\n",
      "Lines: 51\n",
      "\n",
      "From article <1r1i7mINN4n4@cronkite.cisco.com>, by kmac@cisc\n",
      "---\n",
      "\n",
      "Similarity: 0.2057\n",
      "From: \"Arun G. Jayakumar\" <aj22+@andrew.cmu.edu>\n",
      "Subject: Re: Honda Mailing list?\n",
      "Organization: Freshman, Biology, Carnegie Mellon, Pittsburgh, PA\n",
      "Lines: 6\n",
      "NNTP-Posting-Host: andrew.cmu.edu\n",
      "In-Reply-T\n",
      "---\n",
      "\n"
     ]
    }
   ],
   "source": [
    "# Przykladowe zapytanie :\n",
    "query = \"toyota and honda are the best cars\" \n",
    "top_documents = get_similar_docs(query, 5) \n",
    "# Wypisz wyniki \n",
    "for doc, score in top_documents: \n",
    "    print(f\"Similarity: {score:.4f}\\n{doc[:200]}\\n---\\n\")"
   ]
  },
  {
   "cell_type": "code",
   "execution_count": 19,
   "id": "82f0c63e-9f39-4017-9a6d-2428980eba40",
   "metadata": {},
   "outputs": [],
   "source": [
    "# Ad zad2. a) Wnioski:\n",
    "# TU OPISZ WNIOSKI Z PUNKTU A"
   ]
  },
  {
   "cell_type": "code",
   "execution_count": 47,
   "id": "cb2b104a-d0a5-445d-aa6d-c9d958c38de7",
   "metadata": {},
   "outputs": [],
   "source": [
    "# Zadanie 2.B  \n",
    "# Wypróbuj iloczyn skalarny zamiast podobieństwa kosinusowego, porównaj do wyników\n",
    "# z punktu a) i opisz w sprawozdaniu różnicę i jej przyczyny."
   ]
  },
  {
   "cell_type": "code",
   "execution_count": 61,
   "id": "32bc3672-6f69-4427-82b6-3d675c337a63",
   "metadata": {},
   "outputs": [],
   "source": [
    "def get_similar_docs_by_scalar(query, vectorizer, tfidf_matrix, top_n): \n",
    "    # Konwersja zapytania do wektora TF-IDF \n",
    "    query_vector = vectorizer.transform([query]) \n",
    "    # Obliczenie iloczynu skalarnego między zapytaniem a wszystkimi dokumentami \n",
    "    scalar_products = np.dot(query_vector, tfidf_matrix.T).toarray().flatten() \n",
    "    # Znalezienie indeksów dokumentów o najwyższym iloczynie skalarnym \n",
    "    top_indices = scalar_products.argsort()[-top_n:][::-1] \n",
    "    return top_indices, scalar_products[top_indices]"
   ]
  },
  {
   "cell_type": "code",
   "execution_count": 62,
   "id": "390fee1f-bebc-426f-8157-b1f93e634ca4",
   "metadata": {
    "scrolled": true
   },
   "outputs": [
    {
     "name": "stdout",
     "output_type": "stream",
     "text": [
      "Similarity: 0.3241\n",
      "From: carl_f_hoffman@cup.portal.com\n",
      "Subject: 1993 Infiniti G20\n",
      "Organization: The Portal System (TM)\n",
      "Lines: 26\n",
      "\n",
      "\n",
      "I am thinking about getting an Infiniti G20.\n",
      "In consumer reports it is ranked high in ma\n",
      "---\n",
      "\n",
      "Similarity: 0.2480\n",
      "From: gt4722a@prism.gatech.EDU (James B. Atkins)\n",
      "Subject: Honda Mailing list?\n",
      "Organization: Georgia Institute of Technology\n",
      "Lines: 2\n",
      "\n",
      "\n",
      "\tIs there a Honda mailing list, and if so how do I subscribe to i\n",
      "---\n",
      "\n",
      "Similarity: 0.2246\n",
      "From: srihari@cirrus.com (Srihari Shoroff)\n",
      "Subject: Re: Instead of a Saturn SC2, What???\n",
      "Organization: Cirrus Logic Inc.\n",
      "Distribution: na\n",
      "Lines: 24\n",
      "\n",
      "In <Ifn=sPO00iV18_A8NZ@andrew.cmu.edu> jr4q+@andrew\n",
      "---\n",
      "\n",
      "Similarity: 0.2143\n",
      "From: bep1@cbnewsg.cb.att.com (bentz.e.puryear)\n",
      "Subject: Re: Sport Utility Vehical comparisons? Any Opinions?\n",
      "Organization: AT&T\n",
      "Lines: 51\n",
      "\n",
      "From article <1r1i7mINN4n4@cronkite.cisco.com>, by kmac@cisc\n",
      "---\n",
      "\n",
      "Similarity: 0.2057\n",
      "From: \"Arun G. Jayakumar\" <aj22+@andrew.cmu.edu>\n",
      "Subject: Re: Honda Mailing list?\n",
      "Organization: Freshman, Biology, Carnegie Mellon, Pittsburgh, PA\n",
      "Lines: 6\n",
      "NNTP-Posting-Host: andrew.cmu.edu\n",
      "In-Reply-T\n",
      "---\n",
      "\n"
     ]
    }
   ],
   "source": [
    "# Wczytanie danych 20newsgroups\n",
    "newsgroups = fetch_20newsgroups(subset='all')\n",
    "documents = newsgroups.data\n",
    "\n",
    "# Stwórz wektor TF-IDF dla dokumentów\n",
    "vectorizer = TfidfVectorizer(stop_words='english')\n",
    "tfidf_matrix = vectorizer.fit_transform(documents)\n",
    "\n",
    "# Przykladowe zapytanie:\n",
    "query = \"toyota and honda are the best cars\"\n",
    "\n",
    "#Iloczyn skalarny podobienstw\n",
    "top_indices, top_scores = get_similar_docs_by_scalar(query, vectorizer, tfidf_matrix, 5)\n",
    "\n",
    "# Wyświetlenie wyników \n",
    "for doc, score in zip(top_indices, top_scores): \n",
    "    print(f\"Similarity: {score:.4f}\\n{documents[doc][:200]}\\n---\\n\")"
   ]
  },
  {
   "cell_type": "code",
   "execution_count": null,
   "id": "53e77da5-4419-45ff-b9f6-b4d1a6c9faec",
   "metadata": {},
   "outputs": [],
   "source": [
    "# Ad zad2. b) Wnioski:\n",
    "# TU OPISZ WNIOSKI Z PUNKTU B"
   ]
  },
  {
   "cell_type": "code",
   "execution_count": null,
   "id": "9fb1d082-cefd-4f82-a2c0-53b996a67feb",
   "metadata": {},
   "outputs": [],
   "source": [
    "# TASK 4\n",
    "'''\n",
    "For each group in the 20newsgroups set, list the group that is most and least similar in meaning. \n",
    "As a measure of the similarity of two groups, use the average cosine similarity calculated for all pairs of documents from the compared groups.\n",
    "'''"
   ]
  },
  {
   "cell_type": "code",
   "execution_count": null,
   "id": "3ab03e41-e6aa-45bf-97ef-d67cb7ddc56c",
   "metadata": {},
   "outputs": [],
   "source": [
    "# Read data from 20newsgroups\n",
    "newsgroups = fetch_20newsgroups(subset='all')\n",
    "documents = newsgroups.data\n",
    "\n"
   ]
  }
 ],
 "metadata": {
  "kernelspec": {
   "display_name": "Python 3 (ipykernel)",
   "language": "python",
   "name": "python3"
  },
  "language_info": {
   "codemirror_mode": {
    "name": "ipython",
    "version": 3
   },
   "file_extension": ".py",
   "mimetype": "text/x-python",
   "name": "python",
   "nbconvert_exporter": "python",
   "pygments_lexer": "ipython3",
   "version": "3.12.3"
  }
 },
 "nbformat": 4,
 "nbformat_minor": 5
}
